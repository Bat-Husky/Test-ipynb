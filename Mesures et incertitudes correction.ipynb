{
 "cells": [
  {
   "cell_type": "markdown",
   "id": "20b0e265",
   "metadata": {},
   "source": [
    "# Mesures et incertitudes"
   ]
  },
  {
   "cell_type": "markdown",
   "id": "4cb9c600",
   "metadata": {},
   "source": [
    "## Incertitude de type B"
   ]
  },
  {
   "cell_type": "markdown",
   "id": "5f0bf898",
   "metadata": {},
   "source": [
    "#### Importation des modules nécessaires"
   ]
  },
  {
   "cell_type": "code",
   "execution_count": 37,
   "id": "6a7cdf18",
   "metadata": {},
   "outputs": [],
   "source": [
    "import numpy as np\n",
    "import numpy.random as rd"
   ]
  },
  {
   "cell_type": "markdown",
   "id": "b0f35edd",
   "metadata": {},
   "source": [
    "### Incertitude de type B  pour une grandeur indépendante d'autres grandeurs\n",
    "Pour calculer l'incertitude de type B pour une grandeur indépendante d'autres grandeurs, connaissant la demi-étendu spatiale $Delta$, on utilise : $$ u(xmoyen)= \\frac{Delta}{\\sqrt 3}$$\n",
    "\n",
    "Remarque :\n",
    "* L'incertitude-type s'écrit avec deux chiffres significatifs\n",
    "* La valeur de la mesure s'écrit en faisant en sorte que sa dernière décimale soit à la même position que celle de l'incertitude-type.\n",
    "Mesure des longueurs $$l_p$$ et $$l_m$$"
   ]
  },
  {
   "cell_type": "code",
   "execution_count": 38,
   "id": "b89471e3",
   "metadata": {},
   "outputs": [],
   "source": [
    "l_p=4.30 # en cm\n",
    "l_m=2.70 # en cm"
   ]
  },
  {
   "cell_type": "markdown",
   "id": "56a45a35",
   "metadata": {},
   "source": [
    "#### Estimation de la demi-largeur de l'étendue :\n",
    "liée aux difficultés à estimer le début et la fin de chaque phalange, plus les\n",
    "incertitudes sur la mesure de la longueur liées à l'instrument de mesure( règle)"
   ]
  },
  {
   "cell_type": "code",
   "execution_count": 39,
   "id": "1cc10032",
   "metadata": {},
   "outputs": [],
   "source": [
    "Delta=0.2 # en cm"
   ]
  },
  {
   "cell_type": "markdown",
   "id": "9b3bb0c8",
   "metadata": {},
   "source": [
    "#### Calcul de l'incertitude de type B"
   ]
  },
  {
   "cell_type": "code",
   "execution_count": 40,
   "id": "599efbdc",
   "metadata": {},
   "outputs": [
    {
     "name": "stdout",
     "output_type": "stream",
     "text": [
      "u_lp = 0.12 cm\n",
      "u_lm = 0.12 cm\n"
     ]
    }
   ],
   "source": [
    "u_lp =   round(Delta/(3)**0.5,2)\n",
    "u_lm=round(Delta/(3)**0.5,2)\n",
    "\n",
    "#Ecriture du résultat avec deux chiffres significatifs\n",
    "print(\"u_lp =\",u_lp , \"cm\")\n",
    "print(\"u_lm =\", u_lm, \"cm\")"
   ]
  },
  {
   "cell_type": "markdown",
   "id": "fa4b4a17",
   "metadata": {},
   "source": [
    "#### Résultats de la mesure de chaque longueur "
   ]
  },
  {
   "cell_type": "code",
   "execution_count": 41,
   "id": "a82bcc5e",
   "metadata": {},
   "outputs": [
    {
     "name": "stdout",
     "output_type": "stream",
     "text": [
      "longueur de la phalange proximale =  4.3 ± 0.12 cm\n",
      "longueur de la phalange du milieu  =  2.7 ± 0.12 cm\n"
     ]
    }
   ],
   "source": [
    "print(\"longueur de la phalange proximale = \",l_p,\"±\",u_lp, \"cm\")\n",
    "print(\"longueur de la phalange du milieu  = \",l_m,\"±\",u_lm, \"cm\")"
   ]
  },
  {
   "cell_type": "markdown",
   "id": "4f2643a6",
   "metadata": {},
   "source": [
    "## Détermination du rapport r \n",
    "$$r=l_p/l_m$$\n",
    "### r dépend de deux autres grandeurs l_p et l_m (utilisation de l'organigramme 2)\n",
    "#### Détermination de l'incertitude-type composée en utilisant la théorie\n",
    "$$ u_r =r*\\sqrt{ \\left(\\frac {u_lp}{l_p}\\right )^2 + \\left(\\frac {u_lm}{l_m}\\right )^2}$$\n"
   ]
  },
  {
   "cell_type": "code",
   "execution_count": 42,
   "id": "d118af8d",
   "metadata": {},
   "outputs": [],
   "source": [
    "r=l_p/l_m"
   ]
  },
  {
   "cell_type": "code",
   "execution_count": 43,
   "id": "cc2e0955",
   "metadata": {},
   "outputs": [],
   "source": [
    "u_r=r*(((u_lp/l_p)**2+(u_lm/l_m)**2)**0.5)"
   ]
  },
  {
   "cell_type": "markdown",
   "id": "39eb7ccf",
   "metadata": {},
   "source": [
    "#### Résultat r"
   ]
  },
  {
   "cell_type": "code",
   "execution_count": 44,
   "id": "b16b0532",
   "metadata": {},
   "outputs": [
    {
     "name": "stdout",
     "output_type": "stream",
     "text": [
      "le rapport r  =  1.5925925925925923 ± 0.08357861580106074\n"
     ]
    }
   ],
   "source": [
    "print(\"le rapport r  = \",r,\"±\",u_r)"
   ]
  },
  {
   "cell_type": "markdown",
   "id": "a2b71481",
   "metadata": {},
   "source": [
    "#### Détermination de l'incertitude-type composée en utilisant une simulation numérique (algorithme de Monte Carlo)"
   ]
  },
  {
   "cell_type": "code",
   "execution_count": 45,
   "id": "5cc0eb69",
   "metadata": {},
   "outputs": [],
   "source": [
    "def MCuniform(l_p,l_m,u_lp,u_lm, N ):\n",
    "    # Application de la méthode de Monte-Carlo\n",
    "    # afin d'obtenir une bonne estimation de la moyenne et de l'écart-type \n",
    "    # d'une grandeur, la loi est supposée uniforme\n",
    "    # les arguments de cette fonction sont les grandeurs dont dépend la grandeur qui nous intéresse\n",
    "    # ainsi que les incertitudes sur ces grandeurs.\n",
    "    # N l_mest le nombre de simulations Monte-Carlo souhaitées\n",
    "    # Initialisation de la liste de stockage des grandeurs simulées\n",
    "    résultat=[]\n",
    "    for i in range(N):\n",
    "        lp_MC =l_p + rd.uniform(-u_lp, u_lp)\n",
    "        lm_MC=l_m+ rd.uniform(-u_lm, u_lm)\n",
    "        # résultat obtenu à partir de la formule théorique à rentrer\n",
    "        r=lp_MC/lm_MC\n",
    "        # Ajout des valeurs de r\n",
    "        résultat.append(r)\n",
    "    # Détermination de la moyenne des valeurs obtenues par simulation\n",
    "    # Monte Carlo\n",
    "    val_moy = np.average(résultat)\n",
    "    # Détermination de l'incertitude\n",
    "    u_val = np.std(résultat, ddof=1)\n",
    "    return (val_moy, u_val )"
   ]
  },
  {
   "cell_type": "code",
   "execution_count": 46,
   "id": "1d0f4e0f",
   "metadata": {},
   "outputs": [],
   "source": [
    "val_moy, u_val=MCuniform(l_p,l_m,u_lp,u_lm, 10000 )"
   ]
  },
  {
   "cell_type": "code",
   "execution_count": 47,
   "id": "e95436f3",
   "metadata": {},
   "outputs": [
    {
     "name": "stdout",
     "output_type": "stream",
     "text": [
      "r= 1.593 ± 0.048\n"
     ]
    }
   ],
   "source": [
    "print(\"r=\",round(val_moy,3),\"±\",round(u_val,3))"
   ]
  },
  {
   "cell_type": "code",
   "execution_count": 48,
   "id": "a2604788",
   "metadata": {},
   "outputs": [],
   "source": [
    "###Incertitude de type A "
   ]
  },
  {
   "cell_type": "code",
   "execution_count": 49,
   "id": "fb97d4d4",
   "metadata": {},
   "outputs": [],
   "source": [
    "#### Données et calculs de r associé"
   ]
  },
  {
   "cell_type": "code",
   "execution_count": 50,
   "id": "b7db585b",
   "metadata": {},
   "outputs": [
    {
     "name": "stdout",
     "output_type": "stream",
     "text": [
      "valeurs de r [1.8846153846153846, 1.71875, 1.7, 1.9047619047619047]\n"
     ]
    }
   ],
   "source": [
    "l_pdonnees=[4.9,5.5,5.1,4.0]\n",
    "l_mdonnees=[2.6,3.2,3.0,2.1]\n",
    "r=[]\n",
    "for i in range(len(l_pdonnees)):\n",
    "               r.append(l_pdonnees[i]/l_mdonnees[i])\n",
    "print(\"valeurs de r\",r)"
   ]
  },
  {
   "cell_type": "code",
   "execution_count": 51,
   "id": "7e5c0921",
   "metadata": {},
   "outputs": [],
   "source": [
    "#### Meilleur estimateur de r et incertitude-type sur la moyenne de r\n",
    "moy=np.mean(r)\n",
    "incerttype=np.std(r,ddof=1)/np.sqrt(len(l_pdonnees))"
   ]
  },
  {
   "cell_type": "markdown",
   "id": "0e594b05",
   "metadata": {},
   "source": [
    "#### Affichage du résultat"
   ]
  },
  {
   "cell_type": "code",
   "execution_count": 52,
   "id": "e4955c3d",
   "metadata": {},
   "outputs": [
    {
     "name": "stdout",
     "output_type": "stream",
     "text": [
      "r= 1.8 ± 0.05\n"
     ]
    }
   ],
   "source": [
    "print(\"r=\",round(moy,2),\"±\",round(incerttype,2))"
   ]
  },
  {
   "cell_type": "markdown",
   "id": "608fb001",
   "metadata": {},
   "source": []
  },
  {
   "cell_type": "code",
   "execution_count": null,
   "id": "a7b4158e",
   "metadata": {},
   "outputs": [],
   "source": []
  }
 ],
 "metadata": {
  "kernelspec": {
   "display_name": "Python 3 (ipykernel)",
   "language": "python",
   "name": "python3"
  },
  "language_info": {
   "codemirror_mode": {
    "name": "ipython",
    "version": 3
   },
   "file_extension": ".py",
   "mimetype": "text/x-python",
   "name": "python",
   "nbconvert_exporter": "python",
   "pygments_lexer": "ipython3",
   "version": "3.9.7"
  }
 },
 "nbformat": 4,
 "nbformat_minor": 5
}
